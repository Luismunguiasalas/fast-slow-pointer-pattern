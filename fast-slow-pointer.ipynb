{
 "metadata": {
  "language_info": {
   "codemirror_mode": {
    "name": "ipython",
    "version": 3
   },
   "file_extension": ".py",
   "mimetype": "text/x-python",
   "name": "python",
   "nbconvert_exporter": "python",
   "pygments_lexer": "ipython3",
   "version": "3.8.5-final"
  },
  "orig_nbformat": 2,
  "kernelspec": {
   "name": "python3",
   "display_name": "Python 3",
   "language": "python"
  }
 },
 "nbformat": 4,
 "nbformat_minor": 2,
 "cells": [
  {
   "cell_type": "code",
   "execution_count": null,
   "metadata": {},
   "outputs": [],
   "source": [
    "# Linkedlist cycle\n",
    "def has_cycle(head):\n",
    "    slow,fast = head,head\n",
    "    while fast is not None and fast.next is not None:\n",
    "        fast = fast.next.next\n",
    "        slow = slow.next\n",
    "        is slow == fast:\n",
    "        return True # found the cycle\n",
    "    return False\n",
    "# time complexity O(n)\n",
    "# space complexity O(1)"
   ]
  },
  {
   "cell_type": "code",
   "execution_count": 1,
   "metadata": {},
   "outputs": [],
   "source": [
    "# Given the head of the linkedlist with a cycle, find the \n",
    "# length of the cycle\n",
    "\n",
    "def has_cycle(head):\n",
    "    slow,fast = head,head\n",
    "    while fast is not None and fast.next is not None:\n",
    "        fast = fast.next.next\n",
    "        slow = slow.next\n",
    "        if slow == fast:\n",
    "            return cycle_len(slow)\n",
    "    return 0\n",
    "\n",
    "def cycle_len(slow):\n",
    "    check = slow\n",
    "    length = 0\n",
    "    while True:\n",
    "        check = check.next\n",
    "        length += 1\n",
    "        if check == slow:\n",
    "            return length\n",
    "\n",
    "# time complexity O(n)\n",
    "# space complexity O(1)\n",
    "\n",
    "class Node:\n",
    "    def __init__(self,value):\n",
    "        self.value = value\n",
    "        self.next = None\n",
    "def main():\n",
    "  head = Node(1)\n",
    "  head.next = Node(2)\n",
    "  head.next.next = Node(3)\n",
    "  head.next.next.next = Node(4)\n",
    "  head.next.next.next.next = Node(5)\n",
    "  head.next.next.next.next.next = Node(6)\n",
    "  head.next.next.next.next.next.next = head.next.next\n",
    "  print(\"LinkedList cycle length: \" + str(cycle_len(head)))\n",
    "\n",
    "  head.next.next.next.next.next.next = head.next.next.next\n",
    "  print(\"LinkedList cycle length: \" + str(cycle_len(head)))\n",
    "\n",
    "\n",
    "main()\n"
   ]
  },
  {
   "cell_type": "code",
   "execution_count": null,
   "metadata": {},
   "outputs": [],
   "source": []
  }
 ]
}